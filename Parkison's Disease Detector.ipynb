{
 "cells": [
  {
   "cell_type": "code",
   "execution_count": 2,
   "id": "ce358a42",
   "metadata": {},
   "outputs": [
    {
     "name": "stdout",
     "output_type": "stream",
     "text": [
      "Defaulting to user installation because normal site-packages is not writeable\n",
      "Collecting xgboost\n",
      "  Downloading xgboost-1.7.5-py3-none-manylinux2014_x86_64.whl (200.3 MB)\n",
      "\u001b[2K     \u001b[38;2;249;38;114m━━━━━━━━\u001b[0m\u001b[38;2;249;38;114m╸\u001b[0m\u001b[38;5;237m━━━━━━━━━━━━━━━━━━━━━━━━━━━━━\u001b[0m \u001b[32m45.3/200.3 MB\u001b[0m \u001b[31m420.1 kB/s\u001b[0m eta \u001b[36m0:06:10\u001b[0m"
     ]
    }
   ],
   "source": [
    "pip install xgboost"
   ]
  },
  {
   "cell_type": "code",
   "execution_count": 3,
   "id": "567ab6f7",
   "metadata": {},
   "outputs": [],
   "source": [
    "import numpy as np\n",
    "import pandas as pd\n",
    "import os, sys\n",
    "from sklearn.preprocessing import MinMaxScaler\n",
    "from xgboost import XGBClassifier\n",
    "from sklearn.model_selection import train_test_split\n",
    "from sklearn.metrics import accuracy_score"
   ]
  },
  {
   "cell_type": "code",
   "execution_count": 4,
   "id": "28161d19",
   "metadata": {},
   "outputs": [],
   "source": [
    "dataframe=pd.read_csv('parkinsons.csv')\n",
    "print(\"The shape of data is: \",dataframe.shape,\"\\n\")\n",
    "print(\"FIRST FIVE ROWS OF DATA ARE AS FOLLOWS: \\n\")\n",
    "dataframe.head()"
   ]
  },
  {
   "cell_type": "code",
   "execution_count": 5,
   "id": "b222b5eb",
   "metadata": {},
   "outputs": [],
   "source": [
    "data=dataframe.loc[:,dataframe.columns!='status'].values[:,1:]\n",
    "label=dataframe.loc[:,'status'].values"
   ]
  },
  {
   "cell_type": "code",
   "execution_count": 6,
   "id": "85d6bc16",
   "metadata": {},
   "outputs": [],
   "source": [
    "Normalizing_object = MinMaxScaler((-1,1))\n",
    "x_data = Normalizing_object.fit_transform(data)\n",
    "y_data=label"
   ]
  },
  {
   "cell_type": "code",
   "execution_count": 7,
   "id": "7ebd252d",
   "metadata": {},
   "outputs": [],
   "source": [
    "\t\n",
    "x_train,x_test,y_train,y_test=train_test_split(x_data,y_data,test_size=0.2)\n"
   ]
  },
  {
   "cell_type": "code",
   "execution_count": 8,
   "id": "0fb1472d",
   "metadata": {},
   "outputs": [],
   "source": [
    "model=XGBClassifier()\n",
    "model.fit(x_train,y_train)"
   ]
  },
  {
   "cell_type": "code",
   "execution_count": 10,
   "id": "f4846fd6",
   "metadata": {},
   "outputs": [],
   "source": [
    "predictions=model_obj.predict(x_test)\n",
    "print(accuracy_score(y_test,predictions)*100)"
   ]
  }
 ],
 "metadata": {
  "kernelspec": {
   "display_name": "Python 3 (ipykernel)",
   "language": "python",
   "name": "python3"
  },
  "language_info": {
   "codemirror_mode": {
    "name": "ipython",
    "version": 3
   },
   "file_extension": ".py",
   "mimetype": "text/x-python",
   "name": "python",
   "nbconvert_exporter": "python",
   "pygments_lexer": "ipython3",
   "version": "3.10.6"
  }
 },
 "nbformat": 4,
 "nbformat_minor": 5
}
